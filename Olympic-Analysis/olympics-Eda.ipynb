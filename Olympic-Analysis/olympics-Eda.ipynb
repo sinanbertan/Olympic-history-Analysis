{
 "cells": [
  {
   "attachments": {},
   "cell_type": "markdown",
   "metadata": {},
   "source": [
    "![alt](a.avif)"
   ]
  },
  {
   "attachments": {},
   "cell_type": "markdown",
   "metadata": {},
   "source": [
    "# OLYMPICS EDA ANALYSIS:"
   ]
  },
  {
   "cell_type": "code",
   "execution_count": null,
   "metadata": {},
   "outputs": [],
   "source": [
    "#IMPORTING LIBRARIES:\n",
    "import numpy as np\n",
    "import pandas as pd \n",
    "import seaborn as sns\n",
    "import matplotlib.pyplot as plt\n",
    "import plotly.express as px\n",
    "from sklearn.model_selection import cross_val_score\n",
    "from sklearn.metrics import mean_absolute_error,mean_squared_error,r2_score\n",
    "from sklearn.impute import SimpleImputer\n",
    "from sklearn.preprocessing import LabelEncoder\n",
    "from sklearn.preprocessing import OneHotEncoder\n",
    "from sklearn.compose import ColumnTransformer \n",
    "from sklearn.preprocessing import StandardScaler\n",
    "from warnings import filterwarnings \n",
    "filterwarnings('ignore')\n"
   ]
  },
  {
   "cell_type": "code",
   "execution_count": null,
   "metadata": {},
   "outputs": [],
   "source": [
    "#IMPORTING DATASET:\n",
    "\n",
    "df=pd.read_csv('athlete_events.csv')\n",
    "df.head()"
   ]
  },
  {
   "attachments": {},
   "cell_type": "markdown",
   "metadata": {},
   "source": [
    "# COLUMNS MEANINGS\n",
    "![alt](img1.png)"
   ]
  },
  {
   "cell_type": "code",
   "execution_count": null,
   "metadata": {},
   "outputs": [],
   "source": [
    "#EXPLORATORY DATA ANALYSIS:\n",
    "\n",
    "df.info() #to check the data types of the columns and null values"
   ]
  },
  {
   "cell_type": "code",
   "execution_count": null,
   "metadata": {},
   "outputs": [],
   "source": [
    "df.describe() #statistical summary"
   ]
  },
  {
   "cell_type": "code",
   "execution_count": null,
   "metadata": {},
   "outputs": [],
   "source": [
    "df.isnull().sum() #to check the null values"
   ]
  },
  {
   "cell_type": "code",
   "execution_count": null,
   "metadata": {},
   "outputs": [],
   "source": [
    "df.corr() #to check the correlation between the columns"
   ]
  },
  {
   "cell_type": "code",
   "execution_count": null,
   "metadata": {},
   "outputs": [],
   "source": [
    "#which countries have the most number of medals in total?\n",
    "\n",
    "most_medals=df.groupby(['Team'])['Medal'].count().sort_values(ascending=False).head(15)\n",
    "\n",
    "px.bar(most_medals, x=most_medals.index, y=most_medals.values, color=most_medals.index, title='Countries with most number of medals',\n",
    "       labels={'Team':'Country', 'y':'Number of medals'}, template='plotly_dark', width=800, height=500, text=most_medals.values)\n"
   ]
  },
  {
   "cell_type": "code",
   "execution_count": null,
   "metadata": {},
   "outputs": [],
   "source": [
    "#which countries have the most number of gold medals?\n",
    "\n",
    "gold=df[df['Medal']=='Gold']\n",
    "gold_medals=gold.groupby(['Team'])['Medal'].count().sort_values(ascending=False).head(15)\n",
    "\n",
    "px.bar(gold_medals, x=gold_medals.index, y=gold_medals.values, color=gold_medals.index, title='Countries with most number of gold medals',\n",
    "       labels={'Team':'Country', 'y':'Number of gold medals'}, template='plotly_dark', width=800, height=500, text=gold_medals.values)"
   ]
  },
  {
   "cell_type": "code",
   "execution_count": null,
   "metadata": {},
   "outputs": [],
   "source": [
    "# distribution of age of the athletes:\n",
    "\n",
    "px.histogram(df, x='Age', title='Distribution of age of the athletes' ,template='plotly_dark',\n",
    "             width=800, height=500, nbins=50, color_discrete_sequence=['#F63366'],\n",
    "             labels={'Age':'Age of the athletes'}, opacity=0.8, marginal='box')"
   ]
  },
  {
   "cell_type": "code",
   "execution_count": null,
   "metadata": {},
   "outputs": [],
   "source": [
    "#correration between variables:\n",
    "df_corr=df.drop(['ID'], axis=1)\n",
    "\n",
    "px.imshow(df_corr.corr(), title='Correlation between variables', template='plotly_dark', width=800, height=500)"
   ]
  },
  {
   "cell_type": "code",
   "execution_count": null,
   "metadata": {},
   "outputs": [],
   "source": [
    "# distribution of gained medals in years:\n",
    "year=df.groupby(['Year'])['Medal'].count().sort_values(ascending=False).head(15)\n",
    "\n",
    "px.bar(year, x=year.index, y=year.values, color=year.index, title='Distribution of gained medals in years')"
   ]
  },
  {
   "cell_type": "code",
   "execution_count": null,
   "metadata": {},
   "outputs": [],
   "source": [
    "#which sports do the athletes who are smaller than 150 cm and heavier than 100 kg do?\n",
    "\n",
    "smaller=df[(df['Height']<150)]['Sport'].value_counts().head(10)\n",
    "overweight=df[(df['Weight']>100)]['Sport'].value_counts().head(10)\n",
    "\n",
    "fig=px.bar(smaller, x=smaller.index, y=smaller.values, color=smaller.index,\n",
    "           title='Sports which athletes who are smaller than 150 cm ?',labels={'index':'Sports', 'y':'Number of athletes'},width=800, height=500)\n",
    "fig.show()\n",
    "\n",
    "\n",
    "fig1=px.bar(overweight, x=overweight.index, y=overweight.values, color=overweight.index,\n",
    "            title='Sports which athletes  who are heavier than 100 kg?',labels={'index':'Sports', 'y':'Number of athletes'},width=800, height=500)\n",
    "fig1.show()\n"
   ]
  },
  {
   "cell_type": "code",
   "execution_count": null,
   "metadata": {},
   "outputs": [],
   "source": [
    "#which sports do the athletes who are older than 40 ?\n",
    "\n",
    "old=df[(df['Age']>40)]['Sport'].value_counts().head(10)\n",
    "\n",
    "px.pie(old, values=old.values, names=old.index, title='Sports wich athletes who are older than 40 ?', template='plotly_dark',width=800, height=500)\n",
    "\n",
    "# px.bar(old,x=old.index, y=old.values, color=old.index,\n",
    "#        title='Sports of athletes who are older than 40 ?',labels={'index':'Sports', 'y':'Number of athletes'})"
   ]
  },
  {
   "cell_type": "code",
   "execution_count": null,
   "metadata": {},
   "outputs": [],
   "source": [
    "# showing the distribution of the variables:\n",
    "sns.pairplot(df, vars=['Age', 'Height', 'Weight'], kind='reg', diag_kind='kde', palette='husl')"
   ]
  },
  {
   "cell_type": "code",
   "execution_count": null,
   "metadata": {},
   "outputs": [],
   "source": [
    "#what are athletes who gains most medals ?\n",
    "\n",
    "atl=df.groupby(['Name'])['Medal'].count().sort_values(ascending=False).head(15)\n",
    "\n",
    "fig = px.scatter(atl, x=atl.index, y=atl.values, size=atl.values, color=atl.index,hover_name=\"Medal\", size_max=30,title=\"Most Medals Gained Athletes\",template='plotly_dark',\n",
    "                 labels={'Name':'Athletes', 'y':'Number of medals'})\n",
    "fig.show()"
   ]
  },
  {
   "cell_type": "code",
   "execution_count": null,
   "metadata": {},
   "outputs": [],
   "source": [
    "#how many athletes were women in these olympics?\n",
    "\n",
    "wmn=df[(df[\"Sex\"]==\"F\")][\"Year\"].value_counts().head(15)\n",
    "\n",
    "px.bar(wmn,x=wmn.index, y=wmn.values, color=wmn.values,title=\"Counts of women in olympics for per year\",\n",
    "       labels={\"index\":\"Olympics Date\",\"y\":\"Number of women athletes\",\"color\":\"counts\"},template='plotly_dark'\n",
    "       ,color_continuous_scale='aggrnyl',width=800, height=500,text=wmn.values,opacity=0.8,animation_group=\"Year\")"
   ]
  },
  {
   "cell_type": "code",
   "execution_count": null,
   "metadata": {},
   "outputs": [],
   "source": [
    "#In which season Have the olympics been held the most?\n",
    "\n",
    "season=df[\"Season\"].value_counts()\n",
    "\n",
    "px.pie(season,values=season.values,names=season.index,title=\"Seasons of olympics\",template='plotly_dark',width=800, height=500)"
   ]
  },
  {
   "cell_type": "code",
   "execution_count": null,
   "metadata": {},
   "outputs": [],
   "source": [
    "#DATA PREPROCESSING:\n",
    "\n",
    "df.rename(columns={'Team':'Country'}, inplace=True)\n",
    "df.head()\n",
    "\n"
   ]
  },
  {
   "cell_type": "code",
   "execution_count": null,
   "metadata": {},
   "outputs": [],
   "source": [
    "# encoding categorical variables:\n",
    "\n",
    "from sklearn.preprocessing import LabelEncoder\n",
    "\n",
    "le=LabelEncoder()\n",
    "df[\"Sex\"]=le.fit_transform(df[\"Sex\"])\n",
    "\n",
    "df.head()\n"
   ]
  },
  {
   "cell_type": "code",
   "execution_count": null,
   "metadata": {},
   "outputs": [],
   "source": [
    "# detecting outliers:\n",
    "\n",
    "vars=df[[\"Age\",\"Height\",\"Weight\",\"Year\"]]\n",
    "\n",
    "for i in vars:\n",
    "    fig=px.box(df, y=i, title='Boxplot of '+i, template='plotly_dark', width=800, height=500)\n",
    "    fig.show()\n"
   ]
  },
  {
   "cell_type": "code",
   "execution_count": null,
   "metadata": {},
   "outputs": [],
   "source": [
    "#Detecting how many outliers are there in the selected variables:\n",
    "data=df[[\"Age\",\"Height\",\"Weight\",\"Year\"]]\n",
    "data = pd.DataFrame(data)\n",
    "\n",
    "outliers_sum = data.apply(lambda x: np.sum((x - x.mean()).abs() > 2 * x.std()))\n",
    "\n",
    "for i in outliers_sum.index:\n",
    "    print(i,\":\",outliers_sum[i])\n",
    "\n"
   ]
  },
  {
   "cell_type": "code",
   "execution_count": null,
   "metadata": {},
   "outputs": [],
   "source": [
    "#filling missing values:\n",
    "\n",
    "from sklearn.impute import SimpleImputer\n",
    "\n",
    "imputer=SimpleImputer(missing_values=np.nan, strategy='median')\n",
    "\n",
    "df['Age']=imputer.fit_transform(df[['Age']])\n",
    "df['Height']=imputer.fit_transform(df[['Height']])\n",
    "df['Weight']=imputer.fit_transform(df[['Weight']])\n",
    "\n",
    "df.isnull().sum()\n",
    "\n"
   ]
  },
  {
   "cell_type": "code",
   "execution_count": null,
   "metadata": {},
   "outputs": [],
   "source": [
    "#filling outliers with mean:\n",
    "\n",
    "vars=[\"Age\",\"Height\",\"Weight\"]\n",
    "\n",
    "def fill_outliers_with_mean(df, variable, threshold=1.5):\n",
    "    q1 = df[variable].quantile(0.25)\n",
    "    q3 = df[variable].quantile(0.75)\n",
    "    iqr = q3 - q1\n",
    "    lower_bound = q1 - threshold * iqr\n",
    "    upper_bound = q3 + threshold * iqr\n",
    "    \n",
    "    df.loc[(df[variable] < lower_bound) | (df[variable] > upper_bound), variable] = df[variable].mean()\n",
    "    \n",
    "for column in vars:\n",
    "    fill_outliers_with_mean(df, column)\n"
   ]
  },
  {
   "cell_type": "code",
   "execution_count": null,
   "metadata": {},
   "outputs": [],
   "source": [
    "#visualizing the distribution of the variables after filling outliers:\n",
    "\n",
    "vars=df[[\"Age\",\"Height\",\"Weight\"]]\n",
    "\n",
    "for i in vars:\n",
    "    fig=px.box(df, y=i, title='Boxplot of '+i, template='plotly_dark', width=600, height=350)\n",
    "    fig.show()"
   ]
  }
 ],
 "metadata": {
  "kernelspec": {
   "display_name": "base",
   "language": "python",
   "name": "python3"
  },
  "language_info": {
   "codemirror_mode": {
    "name": "ipython",
    "version": 3
   },
   "file_extension": ".py",
   "mimetype": "text/x-python",
   "name": "python",
   "nbconvert_exporter": "python",
   "pygments_lexer": "ipython3",
   "version": "3.10.9"
  },
  "orig_nbformat": 4
 },
 "nbformat": 4,
 "nbformat_minor": 2
}
